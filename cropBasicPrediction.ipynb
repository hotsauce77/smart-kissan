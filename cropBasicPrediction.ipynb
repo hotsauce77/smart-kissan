{
  "nbformat": 4,
  "nbformat_minor": 0,
  "metadata": {
    "colab": {
      "provenance": [],
      "include_colab_link": true
    },
    "kernelspec": {
      "name": "python3",
      "display_name": "Python 3"
    },
    "language_info": {
      "name": "python"
    }
  },
  "cells": [
    {
      "cell_type": "markdown",
      "metadata": {
        "id": "view-in-github",
        "colab_type": "text"
      },
      "source": [
        "<a href=\"https://colab.research.google.com/github/milantony05/smart-kissan/blob/main/cropBasicPrediction.ipynb\" target=\"_parent\"><img src=\"https://colab.research.google.com/assets/colab-badge.svg\" alt=\"Open In Colab\"/></a>"
      ]
    },
    {
      "cell_type": "code",
      "execution_count": null,
      "metadata": {
        "id": "PmmuHnF6hAFN"
      },
      "outputs": [],
      "source": [
        "import numpy as np\n",
        "import pandas as pd"
      ]
    },
    {
      "cell_type": "code",
      "source": [
        "crop = pd.read_csv(\"Crop_recommendation.csv\")\n",
        "crop.head()"
      ],
      "metadata": {
        "id": "g9ak1wHDhHjQ"
      },
      "execution_count": null,
      "outputs": []
    },
    {
      "cell_type": "code",
      "source": [
        "\n",
        "crop.shape"
      ],
      "metadata": {
        "id": "IZ_2NCmAhKbH"
      },
      "execution_count": null,
      "outputs": []
    },
    {
      "cell_type": "code",
      "source": [
        "crop.info()"
      ],
      "metadata": {
        "id": "tX0ar6mOhNo9"
      },
      "execution_count": null,
      "outputs": []
    },
    {
      "cell_type": "code",
      "source": [
        "\n",
        "crop.isnull().sum()"
      ],
      "metadata": {
        "id": "O78Lg62QhOKX"
      },
      "execution_count": null,
      "outputs": []
    },
    {
      "cell_type": "code",
      "source": [
        "\n",
        "crop.duplicated().sum()"
      ],
      "metadata": {
        "id": "_RhVFEhohQ84"
      },
      "execution_count": null,
      "outputs": []
    },
    {
      "cell_type": "code",
      "source": [
        "\n",
        "crop.describe()"
      ],
      "metadata": {
        "id": "PqlS63AGhP6p"
      },
      "execution_count": null,
      "outputs": []
    },
    {
      "cell_type": "code",
      "source": [
        "crop['label'].value_counts()"
      ],
      "metadata": {
        "id": "gbUvvGYYhUUE"
      },
      "execution_count": null,
      "outputs": []
    },
    {
      "cell_type": "code",
      "source": [
        "\n",
        "crop_dict = {\n",
        "    'rice': 1,\n",
        "    'maize': 2,\n",
        "    'jute': 3,\n",
        "    'cotton': 4,\n",
        "    'coconut': 5,\n",
        "    'papaya': 6,\n",
        "    'orange': 7,\n",
        "    'apple': 8,\n",
        "    'muskmelon': 9,\n",
        "    'watermelon': 10,\n",
        "    'grapes': 11,\n",
        "    'mango': 12,\n",
        "    'banana': 13,\n",
        "    'pomegranate': 14,\n",
        "    'lentil': 15,\n",
        "    'blackgram': 16,\n",
        "    'mungbean': 17,\n",
        "    'mothbeans': 18,\n",
        "    'pigeonpeas': 19,\n",
        "    'kidneybeans': 20,\n",
        "    'chickpea': 21,\n",
        "    'coffee': 22\n",
        "}\n",
        "crop['crop_num']=  crop['label'].map(crop_dict)"
      ],
      "metadata": {
        "id": "UD6W0-GfhXm1"
      },
      "execution_count": null,
      "outputs": []
    },
    {
      "cell_type": "code",
      "source": [
        "crop"
      ],
      "metadata": {
        "id": "OIxYeOcxhZNT"
      },
      "execution_count": null,
      "outputs": []
    },
    {
      "cell_type": "code",
      "source": [
        "\n",
        "crop.drop(['label'],axis=1,inplace=True)\n",
        "crop.head()"
      ],
      "metadata": {
        "id": "lc0NI1fLhabw"
      },
      "execution_count": null,
      "outputs": []
    },
    {
      "cell_type": "markdown",
      "source": [
        "Train Test Split"
      ],
      "metadata": {
        "id": "bHzcNUewhcpk"
      }
    },
    {
      "cell_type": "code",
      "source": [
        "\n",
        "X = crop.drop(['crop_num'],axis=1)\n",
        "y = crop['crop_num']"
      ],
      "metadata": {
        "id": "wm8lGK3_hcCm"
      },
      "execution_count": null,
      "outputs": []
    },
    {
      "cell_type": "code",
      "source": [
        "X\n"
      ],
      "metadata": {
        "id": "1aAOvMtUheX1"
      },
      "execution_count": null,
      "outputs": []
    },
    {
      "cell_type": "code",
      "source": [
        "y"
      ],
      "metadata": {
        "id": "tA9-rZDxhlrv"
      },
      "execution_count": null,
      "outputs": []
    },
    {
      "cell_type": "code",
      "source": [
        "\n",
        "y.shape"
      ],
      "metadata": {
        "id": "-HeSlvzRhnod"
      },
      "execution_count": null,
      "outputs": []
    },
    {
      "cell_type": "code",
      "source": [
        "from sklearn.model_selection import train_test_split"
      ],
      "metadata": {
        "id": "Ip0smLnBhpP7"
      },
      "execution_count": null,
      "outputs": []
    },
    {
      "cell_type": "code",
      "source": [
        "X_train, X_test, y_train, y_test = train_test_split(X, y, test_size=0.2, random_state=42)"
      ],
      "metadata": {
        "id": "5JaYqK3dhrP2"
      },
      "execution_count": null,
      "outputs": []
    },
    {
      "cell_type": "code",
      "source": [
        "X_train"
      ],
      "metadata": {
        "id": "PqwIzDBNhtmf"
      },
      "execution_count": null,
      "outputs": []
    },
    {
      "cell_type": "code",
      "source": [
        "from sklearn.preprocessing import MinMaxScaler\n",
        "ms = MinMaxScaler()\n",
        "\n",
        "X_train = ms.fit_transform(X_train)\n",
        "X_test = ms.transform(X_test)"
      ],
      "metadata": {
        "id": "vcSEVyGJhwwO"
      },
      "execution_count": null,
      "outputs": []
    },
    {
      "cell_type": "code",
      "source": [
        "\n",
        "X_train"
      ],
      "metadata": {
        "id": "vR8WM172hx_r"
      },
      "execution_count": null,
      "outputs": []
    },
    {
      "cell_type": "markdown",
      "source": [
        "\n",
        "Training Models"
      ],
      "metadata": {
        "id": "1Y5zjHhth0Az"
      }
    },
    {
      "cell_type": "code",
      "source": [
        "from sklearn.linear_model import LogisticRegression\n",
        "from sklearn.naive_bayes import GaussianNB\n",
        "from sklearn.svm import SVC\n",
        "from sklearn.neighbors import KNeighborsClassifier\n",
        "from sklearn.tree import DecisionTreeClassifier\n",
        "from sklearn.tree import ExtraTreeClassifier\n",
        "from sklearn.ensemble import RandomForestClassifier\n",
        "from sklearn.ensemble import BaggingClassifier\n",
        "from sklearn.ensemble import GradientBoostingClassifier\n",
        "from sklearn.ensemble import AdaBoostClassifier\n",
        "from sklearn.metrics import accuracy_score,confusion_matrix\n",
        "\n",
        "# create instances of all models\n",
        "models = {\n",
        "    'Logistic Regression': LogisticRegression(),\n",
        "    'Naive Bayes': GaussianNB(),\n",
        "    'Support Vector Machine': SVC(),\n",
        "    'K-Nearest Neighbors': KNeighborsClassifier(),\n",
        "    'Decision Tree': DecisionTreeClassifier(),\n",
        "    'Random Forest': RandomForestClassifier(),\n",
        "    'Bagging': BaggingClassifier(),\n",
        "    'AdaBoost': AdaBoostClassifier(),\n",
        "    'Gradient Boosting': GradientBoostingClassifier(),\n",
        "    'Extra Trees': ExtraTreeClassifier(),\n",
        "}\n",
        "\n",
        "\n",
        "for name, model in models.items():\n",
        "    model.fit(X_train,y_train)\n",
        "    ypred = model.predict(X_test)\n",
        "\n",
        "    print(f\"{name}  with accuracy : {accuracy_score(y_test,ypred)}\")\n",
        "    print(\"Confusion matrix : \",confusion_matrix(y_test,ypred))\n",
        "    print(\"==========================================================\")"
      ],
      "metadata": {
        "id": "NlaLld9fh0hS"
      },
      "execution_count": null,
      "outputs": []
    },
    {
      "cell_type": "code",
      "source": [
        "rfc = RandomForestClassifier()\n",
        "rfc.fit(X_train,y_train)\n",
        "ypred = rfc.predict(X_test)\n",
        "accuracy_score(y_test,ypred)"
      ],
      "metadata": {
        "id": "YrYWvevPh5yN"
      },
      "execution_count": null,
      "outputs": []
    },
    {
      "cell_type": "code",
      "source": [
        "\n",
        "# or gausianjb\n",
        "gnb = GaussianNB()\n",
        "gnb.fit(X_train,y_train)\n",
        "ypred = gnb.predict(X_test)\n",
        "accuracy_score(y_test,ypred)"
      ],
      "metadata": {
        "id": "hCMQKYbhh7Iu"
      },
      "execution_count": null,
      "outputs": []
    },
    {
      "cell_type": "code",
      "source": [
        "def recommendation(N,P,k,temperature,humidity,ph,rainfal):\n",
        "    features = np.array([[N,P,k,temperature,humidity,ph,rainfal]])\n",
        "    transformed_features = ms.fit_transform(features)\n",
        "    prediction = rfc.predict(transformed_features)\n",
        "    print(prediction)\n",
        "    return prediction[0]"
      ],
      "metadata": {
        "id": "AQ8VSLUoh9z9"
      },
      "execution_count": null,
      "outputs": []
    },
    {
      "cell_type": "code",
      "source": [
        "\n",
        "# new inputs\n",
        "\n",
        "\n",
        "N = 40\n",
        "P = 50\n",
        "k = 50\n",
        "temperature = 40.0\n",
        "humidity = 20\n",
        "ph = 100\n",
        "rainfall = 100\n",
        "\n",
        "predict = recommendation(N,P,k,temperature,humidity,ph,rainfall)\n",
        "\n",
        "crop_dict = {1: \"Rice\", 2: \"Maize\", 3: \"Jute\", 4: \"Cotton\", 5: \"Coconut\", 6: \"Papaya\", 7: \"Orange\",\n",
        "                 8: \"Apple\", 9: \"Muskmelon\", 10: \"Watermelon\", 11: \"Grapes\", 12: \"Mango\", 13: \"Banana\",\n",
        "                 14: \"Pomegranate\", 15: \"Lentil\", 16: \"Blackgram\", 17: \"Mungbean\", 18: \"Mothbeans\",\n",
        "                 19: \"Pigeonpeas\", 20: \"Kidneybeans\", 21: \"Chickpea\", 22: \"Coffee\"}\n",
        "\n",
        "if predict in crop_dict:\n",
        "    crop = crop_dict[predict]\n",
        "    print(\"{} is a best crop to be cultivated \".format(crop))\n",
        "else:\n",
        "    print(\"Sorry are not able to recommend a proper crop for this environment\")"
      ],
      "metadata": {
        "id": "-Brq0WHIiARF"
      },
      "execution_count": null,
      "outputs": []
    },
    {
      "cell_type": "code",
      "source": [
        "\n",
        "# new inputs\n",
        "\n",
        "\n",
        "N = 40\n",
        "P = 50\n",
        "k = 50\n",
        "temperature = 40.0\n",
        "humidity = 20\n",
        "ph = 100\n",
        "rainfall = 100\n",
        "\n",
        "predict = recommendation(N,P,k,temperature,humidity,ph,rainfall)\n",
        "\n",
        "crop_dict = {1: \"Rice\", 2: \"Maize\", 3: \"Jute\", 4: \"Cotton\", 5: \"Coconut\", 6: \"Papaya\", 7: \"Orange\",\n",
        "                 8: \"Apple\", 9: \"Muskmelon\", 10: \"Watermelon\", 11: \"Grapes\", 12: \"Mango\", 13: \"Banana\",\n",
        "                 14: \"Pomegranate\", 15: \"Lentil\", 16: \"Blackgram\", 17: \"Mungbean\", 18: \"Mothbeans\",\n",
        "                 19: \"Pigeonpeas\", 20: \"Kidneybeans\", 21: \"Chickpea\", 22: \"Coffee\"}\n",
        "\n",
        "if predict in crop_dict:\n",
        "    crop = crop_dict[predict]\n",
        "    print(\"{} is a best crop to be cultivated \".format(crop))\n",
        "else:\n",
        "    print(\"Sorry are not able to recommend a proper crop for this environment\")"
      ],
      "metadata": {
        "id": "41NdMGpdiF67"
      },
      "execution_count": null,
      "outputs": []
    },
    {
      "cell_type": "code",
      "source": [
        "\n",
        "# new inputs 2\n",
        "N = 10\n",
        "P = 10\n",
        "k = 10\n",
        "temperature = 15.0\n",
        "humidity = 80.0\n",
        "ph = 4.5\n",
        "rainfall = 10.0\n",
        "\n",
        "predict = recommendation(N,P,k,temperature,humidity,ph,rainfall)\n",
        "\n",
        "crop_dict = {1: \"Rice\", 2: \"Maize\", 3: \"Jute\", 4: \"Cotton\", 5: \"Coconut\", 6: \"Papaya\", 7: \"Orange\",\n",
        "                 8: \"Apple\", 9: \"Muskmelon\", 10: \"Watermelon\", 11: \"Grapes\", 12: \"Mango\", 13: \"Banana\",\n",
        "                 14: \"Pomegranate\", 15: \"Lentil\", 16: \"Blackgram\", 17: \"Mungbean\", 18: \"Mothbeans\",\n",
        "                 19: \"Pigeonpeas\", 20: \"Kidneybeans\", 21: \"Chickpea\", 22: \"Coffee\"}\n",
        "\n",
        "if predict in crop_dict:\n",
        "    crop = crop_dict[predict]\n",
        "    print(\"{} is a best crop to be cultivated \".format(crop))\n",
        "else:\n",
        "    print(\"Sorry are not able to recommend a proper crop for this environment\")"
      ],
      "metadata": {
        "id": "47E1Th0liIST"
      },
      "execution_count": null,
      "outputs": []
    },
    {
      "cell_type": "code",
      "source": [
        "\n",
        "import pickle\n",
        "pickle.dump(rfc,open('model.pkl','wb'))\n",
        "pickle.dump(ms,open('minmaxscaler.pkl','wb'))"
      ],
      "metadata": {
        "id": "G-DuVKcwiKQf"
      },
      "execution_count": null,
      "outputs": []
    }
  ]
}